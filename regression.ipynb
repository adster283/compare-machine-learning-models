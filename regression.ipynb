{
 "cells": [
  {
   "cell_type": "code",
   "execution_count": 145,
   "metadata": {},
   "outputs": [
    {
     "name": "stdout",
     "output_type": "stream",
     "text": [
      "   Unnamed: 0  carat      cut color clarity  depth  table     x     y     z  \\\n",
      "0           1   0.23    Ideal     E     SI2   61.5   55.0  3.95  3.98  2.43   \n",
      "1           2   0.21  Premium     E     SI1   59.8   61.0  3.89  3.84  2.31   \n",
      "2           3   0.23     Good     E     VS1   56.9   65.0  4.05  4.07  2.31   \n",
      "3           4   0.29  Premium     I     VS2   62.4   58.0  4.20  4.23  2.63   \n",
      "4           5   0.31     Good     J     SI2   63.3   58.0  4.34  4.35  2.75   \n",
      "\n",
      "   price  \n",
      "0    326  \n",
      "1    326  \n",
      "2    327  \n",
      "3    334  \n",
      "4    335  \n"
     ]
    }
   ],
   "source": [
    "# Read in the data file\n",
    "import pandas as pd\n",
    "from sklearn.preprocessing import LabelEncoder, StandardScaler\n",
    "from sklearn.model_selection import train_test_split\n",
    "from sklearn.linear_model import LinearRegression, Ridge, SGDRegressor\n",
    "from sklearn.neighbors import KNeighborsRegressor\n",
    "from sklearn.ensemble import RandomForestRegressor, GradientBoostingRegressor\n",
    "from sklearn.tree import DecisionTreeRegressor\n",
    "from sklearn.svm import SVR, LinearSVR\n",
    "from sklearn.neural_network import MLPRegressor\n",
    "from sklearn.metrics import mean_squared_error, r2_score, mean_absolute_error\n",
    "import numpy as np\n",
    "import time\n",
    "\n",
    "df = pd.read_csv('data/diamonds.csv')\n",
    "\n",
    "print(df.head())"
   ]
  },
  {
   "cell_type": "code",
   "execution_count": 129,
   "metadata": {},
   "outputs": [],
   "source": [
    "# Encode the non-numerical features\n",
    "# Initialize LabelEncoder\n",
    "label_encoder = LabelEncoder()\n",
    "\n",
    "# Apply LabelEncoder to the 'cut' column\n",
    "df['cut_encoded'] = label_encoder.fit_transform(df['cut'])\n",
    "\n",
    "# Similarly, apply to 'color' and 'clarity' if they are ordinal\n",
    "df['color_encoded'] = label_encoder.fit_transform(df['color'])\n",
    "df['clarity_encoded'] = label_encoder.fit_transform(df['clarity'])"
   ]
  },
  {
   "cell_type": "code",
   "execution_count": 130,
   "metadata": {},
   "outputs": [
    {
     "name": "stdout",
     "output_type": "stream",
     "text": [
      "   Unnamed: 0     carat      cut color clarity     depth     table         x  \\\n",
      "0           1 -1.198168    Ideal     E     SI2 -0.174092 -1.099672 -1.587837   \n",
      "1           2 -1.240361  Premium     E     SI1 -1.360738  1.585529 -1.641325   \n",
      "2           3 -1.198168     Good     E     VS1 -3.385019  3.375663 -1.498691   \n",
      "3           4 -1.071587  Premium     I     VS2  0.454133  0.242928 -1.364971   \n",
      "4           5 -1.029394     Good     J     SI2  1.082358  0.242928 -1.240167   \n",
      "\n",
      "          y         z  price  cut_encoded  color_encoded  clarity_encoded  \n",
      "0 -1.536196 -1.571129    326            2              1                3  \n",
      "1 -1.658774 -1.741175    326            3              1                2  \n",
      "2 -1.457395 -1.741175    327            1              1                4  \n",
      "3 -1.317305 -1.287720    334            3              5                5  \n",
      "4 -1.212238 -1.117674    335            1              6                3  \n"
     ]
    }
   ],
   "source": [
    "# Normalize and scale the features\n",
    "# Initialize the scaler\n",
    "scaler = StandardScaler()\n",
    "\n",
    "# Apply scaling to the numerical features\n",
    "df[['carat', 'depth', 'table', 'x', 'y', 'z']] = scaler.fit_transform(df[['carat', 'depth', 'table', 'x', 'y', 'z']])\n",
    "\n",
    "print(df.head())"
   ]
  },
  {
   "cell_type": "code",
   "execution_count": 131,
   "metadata": {},
   "outputs": [
    {
     "name": "stdout",
     "output_type": "stream",
     "text": [
      "   Unnamed: 0     carat     depth     table         x         y         z  \\\n",
      "0           1 -1.198168 -0.174092 -1.099672 -1.587837 -1.536196 -1.571129   \n",
      "1           2 -1.240361 -1.360738  1.585529 -1.641325 -1.658774 -1.741175   \n",
      "2           3 -1.198168 -3.385019  3.375663 -1.498691 -1.457395 -1.741175   \n",
      "3           4 -1.071587  0.454133  0.242928 -1.364971 -1.317305 -1.287720   \n",
      "4           5 -1.029394  1.082358  0.242928 -1.240167 -1.212238 -1.117674   \n",
      "\n",
      "   price  cut_encoded  color_encoded  clarity_encoded  \n",
      "0    326            2              1                3  \n",
      "1    326            3              1                2  \n",
      "2    327            1              1                4  \n",
      "3    334            3              5                5  \n",
      "4    335            1              6                3  \n"
     ]
    }
   ],
   "source": [
    "# Remove the non encoded features\n",
    "df = df.drop([\"cut\", \"clarity\", \"color\"], axis=1)\n",
    "\n",
    "print(df.head())"
   ]
  },
  {
   "cell_type": "code",
   "execution_count": 132,
   "metadata": {},
   "outputs": [
    {
     "name": "stdout",
     "output_type": "stream",
     "text": [
      "   Unnamed: 0     carat     depth     table         x         y         z  \\\n",
      "0           1 -1.198168 -0.174092 -1.099672 -1.587837 -1.536196 -1.571129   \n",
      "1           2 -1.240361 -1.360738  1.585529 -1.641325 -1.658774 -1.741175   \n",
      "2           3 -1.198168 -3.385019  3.375663 -1.498691 -1.457395 -1.741175   \n",
      "3           4 -1.071587  0.454133  0.242928 -1.364971 -1.317305 -1.287720   \n",
      "4           5 -1.029394  1.082358  0.242928 -1.240167 -1.212238 -1.117674   \n",
      "\n",
      "   price  cut_encoded  color_encoded  clarity_encoded  \n",
      "0    326            2              1                3  \n",
      "1    326            3              1                2  \n",
      "2    327            1              1                4  \n",
      "3    334            3              5                5  \n",
      "4    335            1              6                3  \n"
     ]
    }
   ],
   "source": [
    "# Create a test and train set\n",
    "\n",
    "print(df.head())\n",
    "# Define features (X) and target (y)\n",
    "X = df.drop(['price'], axis=1)\n",
    "y = df['price']\n",
    "\n",
    "# Split the data into training and test sets (80% train, 20% test)\n",
    "X_train, X_test, y_train, y_test = train_test_split(X, y, test_size=0.2, random_state=309)\n",
    "\n",
    "# Create a dict for storing models results\n",
    "results = {}"
   ]
  },
  {
   "cell_type": "code",
   "execution_count": 133,
   "metadata": {},
   "outputs": [
    {
     "name": "stdout",
     "output_type": "stream",
     "text": [
      "{'mean_squared_error': np.float64(1861137.934092107), 'root_mean_squared_error': np.float64(1364.2352927893733), 'relative_root_error': np.float64(0.113746704450048), 'mean_absolute_error': np.float64(865.1690280535171), 'r-squared': 0.886253295549952, 'execution_time': 0.009409904479980469}\n"
     ]
    }
   ],
   "source": [
    "# Run the linear regression model\n",
    "# Initialize and train the model\n",
    "model = LinearRegression()\n",
    "model.fit(X_train, y_train)\n",
    "\n",
    "# Start timer for execution time\n",
    "start_time = time.time()\n",
    "\n",
    "# Predict on the test set\n",
    "y_pred = model.predict(X_test)\n",
    "\n",
    "# Calculate metrics\n",
    "mse = mean_squared_error(y_test, y_pred)\n",
    "rmse = np.sqrt(mse)\n",
    "mae = mean_absolute_error(y_test, y_pred)\n",
    "\n",
    "# Calculate Relative Squared Error (RSE)\n",
    "rse = np.sum((y_test - y_pred) ** 2) / np.sum((y_test - np.mean(y_test)) ** 2)\n",
    "\n",
    "# Calculate R-squared\n",
    "r2 = r2_score(y_test, y_pred)\n",
    "\n",
    "# End timer\n",
    "execution_time = time.time() - start_time\n",
    "\n",
    "# Save metrics to dictionary for later use\n",
    "results[\"linear_regression\"] = {\"mean_squared_error\" : mse, \n",
    "                                \"root_mean_squared_error\" : rmse,\n",
    "                                \"relative_root_error\" : rse,\n",
    "                                \"mean_absolute_error\" : mae,\n",
    "                                \"r-squared\" : r2,\n",
    "                                \"execution_time\" : execution_time}\n",
    "\n",
    "print(results['linear_regression'])\n"
   ]
  },
  {
   "cell_type": "code",
   "execution_count": 134,
   "metadata": {},
   "outputs": [
    {
     "name": "stdout",
     "output_type": "stream",
     "text": [
      "{'mean_squared_error': np.float64(59742.3045569151), 'root_mean_squared_error': np.float64(244.4223896391554), 'relative_squared_error': np.float64(0.003651255576022165), 'mean_absolute_error': np.float64(25.717630700778624), 'r_squared': 0.9963487444239778, 'execution_time': 0.041956186294555664}\n"
     ]
    }
   ],
   "source": [
    "# Initialize and train the KNN model\n",
    "model = KNeighborsRegressor(n_neighbors=5)  # You can adjust n_neighbors as needed\n",
    "model.fit(X_train, y_train)\n",
    "\n",
    "# Start timer for execution time\n",
    "start_time = time.time()\n",
    "\n",
    "# Predict on the test set\n",
    "y_pred = model.predict(X_test)\n",
    "\n",
    "# Calculate metrics\n",
    "mse = mean_squared_error(y_test, y_pred)\n",
    "rmse = np.sqrt(mse)\n",
    "mae = mean_absolute_error(y_test, y_pred)\n",
    "\n",
    "# Calculate Relative Squared Error (RSE)\n",
    "rse = np.sum((y_test - y_pred) ** 2) / np.sum((y_test - np.mean(y_test)) ** 2)\n",
    "\n",
    "# Calculate R-squared\n",
    "r2 = r2_score(y_test, y_pred)\n",
    "\n",
    "# End timer\n",
    "execution_time = time.time() - start_time\n",
    "\n",
    "# Save metrics to dictionary for later use\n",
    "results[\"knn_regression\"] = {\n",
    "    \"mean_squared_error\": mse, \n",
    "    \"root_mean_squared_error\": rmse,\n",
    "    \"relative_squared_error\": rse,\n",
    "    \"mean_absolute_error\": mae,\n",
    "    \"r_squared\": r2,\n",
    "    \"execution_time\": execution_time\n",
    "}\n",
    "\n",
    "print(results['knn_regression'])"
   ]
  },
  {
   "cell_type": "code",
   "execution_count": 135,
   "metadata": {},
   "outputs": [
    {
     "name": "stdout",
     "output_type": "stream",
     "text": [
      "{'mean_squared_error': np.float64(1861138.3344333707), 'root_mean_squared_error': np.float64(1364.2354395167172), 'relative_squared_error': np.float64(0.1137467289176055), 'mean_absolute_error': np.float64(865.2830225763197), 'r_squared': 0.8862532710823945, 'execution_time': 0.004446983337402344}\n"
     ]
    }
   ],
   "source": [
    "# Initialize and train the Ridge regression model\n",
    "model = Ridge(alpha=1.0)  # You can adjust the alpha parameter as needed\n",
    "model.fit(X_train, y_train)\n",
    "\n",
    "# Start timer for execution time\n",
    "start_time = time.time()\n",
    "\n",
    "# Predict on the test set\n",
    "y_pred = model.predict(X_test)\n",
    "\n",
    "# Calculate metrics\n",
    "mse = mean_squared_error(y_test, y_pred)\n",
    "rmse = np.sqrt(mse)\n",
    "mae = mean_absolute_error(y_test, y_pred)\n",
    "\n",
    "# Calculate Relative Squared Error (RSE)\n",
    "rse = np.sum((y_test - y_pred) ** 2) / np.sum((y_test - np.mean(y_test)) ** 2)\n",
    "\n",
    "# Calculate R-squared\n",
    "r2 = r2_score(y_test, y_pred)\n",
    "\n",
    "# End timer\n",
    "execution_time = time.time() - start_time\n",
    "\n",
    "# Save metrics to dictionary for later use\n",
    "results[\"ridge_regression\"] = {\n",
    "    \"mean_squared_error\": mse, \n",
    "    \"root_mean_squared_error\": rmse,\n",
    "    \"relative_squared_error\": rse,\n",
    "    \"mean_absolute_error\": mae,\n",
    "    \"r_squared\": r2,\n",
    "    \"execution_time\": execution_time\n",
    "}\n",
    "\n",
    "print(results['ridge_regression'])"
   ]
  },
  {
   "cell_type": "code",
   "execution_count": 136,
   "metadata": {},
   "outputs": [
    {
     "name": "stdout",
     "output_type": "stream",
     "text": [
      "{'mean_squared_error': np.float64(3713.347793845013), 'root_mean_squared_error': np.float64(60.93724471819359), 'relative_squared_error': np.float64(0.00022694775400017344), 'mean_absolute_error': np.float64(4.065072302558399), 'r_squared': 0.9997730522459998, 'execution_time': 0.005082130432128906}\n"
     ]
    }
   ],
   "source": [
    "# Initialize and train the Decision Tree regression model\n",
    "model = DecisionTreeRegressor()  # You can adjust parameters like max_depth as needed\n",
    "model.fit(X_train, y_train)\n",
    "\n",
    "# Start timer for execution time\n",
    "start_time = time.time()\n",
    "\n",
    "# Predict on the test set\n",
    "y_pred = model.predict(X_test)\n",
    "\n",
    "# Calculate metrics\n",
    "mse = mean_squared_error(y_test, y_pred)\n",
    "rmse = np.sqrt(mse)\n",
    "mae = mean_absolute_error(y_test, y_pred)\n",
    "\n",
    "# Calculate Relative Squared Error (RSE)\n",
    "rse = np.sum((y_test - y_pred) ** 2) / np.sum((y_test - np.mean(y_test)) ** 2)\n",
    "\n",
    "# Calculate R-squared\n",
    "r2 = r2_score(y_test, y_pred)\n",
    "\n",
    "# End timer\n",
    "execution_time = time.time() - start_time\n",
    "\n",
    "# Save metrics to dictionary for later use\n",
    "results[\"decision_tree_regression\"] = {\n",
    "    \"mean_squared_error\": mse, \n",
    "    \"root_mean_squared_error\": rmse,\n",
    "    \"relative_squared_error\": rse,\n",
    "    \"mean_absolute_error\": mae,\n",
    "    \"r_squared\": r2,\n",
    "    \"execution_time\": execution_time\n",
    "}\n",
    "\n",
    "print(results['decision_tree_regression'])"
   ]
  },
  {
   "cell_type": "code",
   "execution_count": 137,
   "metadata": {},
   "outputs": [
    {
     "name": "stdout",
     "output_type": "stream",
     "text": [
      "{'mean_squared_error': np.float64(2262.1957817575085), 'root_mean_squared_error': np.float64(47.56254599742857), 'relative_squared_error': np.float64(0.00013825805722521054), 'mean_absolute_error': np.float64(3.6907749351130983), 'r_squared': 0.9998617419427748, 'execution_time': 0.262739896774292}\n"
     ]
    }
   ],
   "source": [
    "# Initialize and train the Random Forest regression model\n",
    "model = RandomForestRegressor(n_estimators=100)  # You can adjust n_estimators and other parameters as needed\n",
    "model.fit(X_train, y_train)\n",
    "\n",
    "# Start timer for execution time\n",
    "start_time = time.time()\n",
    "\n",
    "# Predict on the test set\n",
    "y_pred = model.predict(X_test)\n",
    "\n",
    "# Calculate metrics\n",
    "mse = mean_squared_error(y_test, y_pred)\n",
    "rmse = np.sqrt(mse)\n",
    "mae = mean_absolute_error(y_test, y_pred)\n",
    "\n",
    "# Calculate Relative Squared Error (RSE)\n",
    "rse = np.sum((y_test - y_pred) ** 2) / np.sum((y_test - np.mean(y_test)) ** 2)\n",
    "\n",
    "# Calculate R-squared\n",
    "r2 = r2_score(y_test, y_pred)\n",
    "\n",
    "# End timer\n",
    "execution_time = time.time() - start_time\n",
    "\n",
    "# Save metrics to dictionary for later use\n",
    "results[\"random_forest_regression\"] = {\n",
    "    \"mean_squared_error\": mse, \n",
    "    \"root_mean_squared_error\": rmse,\n",
    "    \"relative_squared_error\": rse,\n",
    "    \"mean_absolute_error\": mae,\n",
    "    \"r_squared\": r2,\n",
    "    \"execution_time\": execution_time\n",
    "}\n",
    "\n",
    "print(results['random_forest_regression'])"
   ]
  },
  {
   "cell_type": "code",
   "execution_count": 138,
   "metadata": {},
   "outputs": [
    {
     "name": "stdout",
     "output_type": "stream",
     "text": [
      "{'mean_squared_error': np.float64(49945.92460110151), 'root_mean_squared_error': np.float64(223.48584877146362), 'relative_squared_error': np.float64(0.003052532657584699), 'mean_absolute_error': np.float64(132.2580326121307), 'r_squared': 0.9969474673424153, 'execution_time': 0.023200035095214844}\n"
     ]
    }
   ],
   "source": [
    "# Initialize and train the Gradient Boosting regression model\n",
    "model = GradientBoostingRegressor(n_estimators=100, learning_rate=0.1)  # You can adjust parameters as needed\n",
    "model.fit(X_train, y_train)\n",
    "\n",
    "# Start timer for execution time\n",
    "start_time = time.time()\n",
    "\n",
    "# Predict on the test set\n",
    "y_pred = model.predict(X_test)\n",
    "\n",
    "# Calculate metrics\n",
    "mse = mean_squared_error(y_test, y_pred)\n",
    "rmse = np.sqrt(mse)\n",
    "mae = mean_absolute_error(y_test, y_pred)\n",
    "\n",
    "# Calculate Relative Squared Error (RSE)\n",
    "rse = np.sum((y_test - y_pred) ** 2) / np.sum((y_test - np.mean(y_test)) ** 2)\n",
    "\n",
    "# Calculate R-squared\n",
    "r2 = r2_score(y_test, y_pred)\n",
    "\n",
    "# End timer\n",
    "execution_time = time.time() - start_time\n",
    "\n",
    "# Save metrics to dictionary for later use\n",
    "results[\"gradient_boosting_regression\"] = {\n",
    "    \"mean_squared_error\": mse, \n",
    "    \"root_mean_squared_error\": rmse,\n",
    "    \"relative_squared_error\": rse,\n",
    "    \"mean_absolute_error\": mae,\n",
    "    \"r_squared\": r2,\n",
    "    \"execution_time\": execution_time\n",
    "}\n",
    "\n",
    "print(results['gradient_boosting_regression'])"
   ]
  },
  {
   "cell_type": "code",
   "execution_count": 139,
   "metadata": {},
   "outputs": [
    {
     "name": "stdout",
     "output_type": "stream",
     "text": [
      "{'mean_squared_error': np.float64(4.69242018288542e+34), 'root_mean_squared_error': np.float64(2.16619947901513e+17), 'relative_squared_error': np.float64(2.867854778095631e+27), 'mean_absolute_error': np.float64(1.879255520353191e+17), 'r_squared': -2.867854778095631e+27, 'execution_time': 0.0048370361328125}\n"
     ]
    }
   ],
   "source": [
    "# Initialize and train the SGD regression model\n",
    "model = SGDRegressor(max_iter=1000, tol=1e-3)  # You can adjust parameters as needed\n",
    "model.fit(X_train, y_train)\n",
    "\n",
    "# Start timer for execution time\n",
    "start_time = time.time()\n",
    "\n",
    "# Predict on the test set\n",
    "y_pred = model.predict(X_test)\n",
    "\n",
    "# Calculate metrics\n",
    "mse = mean_squared_error(y_test, y_pred)\n",
    "rmse = np.sqrt(mse)\n",
    "mae = mean_absolute_error(y_test, y_pred)\n",
    "\n",
    "# Calculate Relative Squared Error (RSE)\n",
    "rse = np.sum((y_test - y_pred) ** 2) / np.sum((y_test - np.mean(y_test)) ** 2)\n",
    "\n",
    "# Calculate R-squared\n",
    "r2 = r2_score(y_test, y_pred)\n",
    "\n",
    "# End timer\n",
    "execution_time = time.time() - start_time\n",
    "\n",
    "# Save metrics to dictionary for later use\n",
    "results[\"sgd_regression\"] = {\n",
    "    \"mean_squared_error\": mse, \n",
    "    \"root_mean_squared_error\": rmse,\n",
    "    \"relative_squared_error\": rse,\n",
    "    \"mean_absolute_error\": mae,\n",
    "    \"r_squared\": r2,\n",
    "    \"execution_time\": execution_time\n",
    "}\n",
    "\n",
    "print(results['sgd_regression'])"
   ]
  },
  {
   "cell_type": "code",
   "execution_count": 140,
   "metadata": {},
   "outputs": [
    {
     "name": "stdout",
     "output_type": "stream",
     "text": [
      "{'mean_squared_error': np.float64(15101463.093481181), 'root_mean_squared_error': np.float64(3886.0600990567787), 'relative_squared_error': np.float64(0.9229523657500719), 'mean_absolute_error': np.float64(2208.557476621165), 'r_squared': 0.07704763424992811, 'execution_time': 23.329512119293213}\n"
     ]
    }
   ],
   "source": [
    "# Initialize and train the Support Vector Regression model\n",
    "model = SVR(kernel='rbf', C=1.0, epsilon=0.1)  # You can adjust parameters as needed\n",
    "model.fit(X_train, y_train)\n",
    "\n",
    "# Start timer for execution time\n",
    "start_time = time.time()\n",
    "\n",
    "# Predict on the test set\n",
    "y_pred = model.predict(X_test)\n",
    "\n",
    "# Calculate metrics\n",
    "mse = mean_squared_error(y_test, y_pred)\n",
    "rmse = np.sqrt(mse)\n",
    "mae = mean_absolute_error(y_test, y_pred)\n",
    "\n",
    "# Calculate Relative Squared Error (RSE)\n",
    "rse = np.sum((y_test - y_pred) ** 2) / np.sum((y_test - np.mean(y_test)) ** 2)\n",
    "\n",
    "# Calculate R-squared\n",
    "r2 = r2_score(y_test, y_pred)\n",
    "\n",
    "# End timer\n",
    "execution_time = time.time() - start_time\n",
    "\n",
    "# Save metrics to dictionary for later use\n",
    "results[\"support_vector_regression\"] = {\n",
    "    \"mean_squared_error\": mse, \n",
    "    \"root_mean_squared_error\": rmse,\n",
    "    \"relative_squared_error\": rse,\n",
    "    \"mean_absolute_error\": mae,\n",
    "    \"r_squared\": r2,\n",
    "    \"execution_time\": execution_time\n",
    "}\n",
    "\n",
    "print(results['support_vector_regression'])"
   ]
  },
  {
   "cell_type": "code",
   "execution_count": 143,
   "metadata": {},
   "outputs": [
    {
     "name": "stdout",
     "output_type": "stream",
     "text": [
      "{'mean_squared_error': np.float64(7280778.7122297445), 'root_mean_squared_error': np.float64(2698.291813764728), 'relative_squared_error': np.float64(0.44497754259691125), 'mean_absolute_error': np.float64(1876.5861790733954), 'r_squared': 0.5550224574030888, 'execution_time': 0.0029058456420898438}\n"
     ]
    },
    {
     "name": "stderr",
     "output_type": "stream",
     "text": [
      "/Users/adamhindry/Downloads/compare-machine-learning-models/venv/lib/python3.12/site-packages/sklearn/svm/_base.py:1235: ConvergenceWarning: Liblinear failed to converge, increase the number of iterations.\n",
      "  warnings.warn(\n"
     ]
    }
   ],
   "source": [
    "# Initialize and train the Linear Support Vector Regression model\n",
    "model = LinearSVR(max_iter=1000, C=1.0, epsilon=0.1)  # You can adjust parameters as needed\n",
    "model.fit(X_train, y_train)\n",
    "\n",
    "# Start timer for execution time\n",
    "start_time = time.time()\n",
    "\n",
    "# Predict on the test set\n",
    "y_pred = model.predict(X_test)\n",
    "\n",
    "# Calculate metrics\n",
    "mse = mean_squared_error(y_test, y_pred)\n",
    "rmse = np.sqrt(mse)\n",
    "mae = mean_absolute_error(y_test, y_pred)\n",
    "\n",
    "# Calculate Relative Squared Error (RSE)\n",
    "rse = np.sum((y_test - y_pred) ** 2) / np.sum((y_test - np.mean(y_test)) ** 2)\n",
    "\n",
    "# Calculate R-squared\n",
    "r2 = r2_score(y_test, y_pred)\n",
    "\n",
    "# End timer\n",
    "execution_time = time.time() - start_time\n",
    "\n",
    "# Save metrics to dictionary for later use\n",
    "results[\"linear_support_vector_regression\"] = {\n",
    "    \"mean_squared_error\": mse, \n",
    "    \"root_mean_squared_error\": rmse,\n",
    "    \"relative_squared_error\": rse,\n",
    "    \"mean_absolute_error\": mae,\n",
    "    \"r_squared\": r2,\n",
    "    \"execution_time\": execution_time\n",
    "}\n",
    "\n",
    "print(results['linear_support_vector_regression'])"
   ]
  },
  {
   "cell_type": "code",
   "execution_count": 146,
   "metadata": {},
   "outputs": [
    {
     "name": "stdout",
     "output_type": "stream",
     "text": [
      "{'mean_squared_error': np.float64(976068.0191580654), 'root_mean_squared_error': np.float64(987.9615474086354), 'relative_squared_error': np.float64(0.05965410648215916), 'mean_absolute_error': np.float64(534.8736379945348), 'r_squared': 0.9403458935178408, 'execution_time': 0.005889892578125}\n"
     ]
    }
   ],
   "source": [
    "# Initialize and train the Multi-Layer Perceptron Regression model\n",
    "model = MLPRegressor(hidden_layer_sizes=(100,), max_iter=1000, random_state=1)  # Adjust parameters as needed\n",
    "model.fit(X_train, y_train)\n",
    "\n",
    "# Start timer for execution time\n",
    "start_time = time.time()\n",
    "\n",
    "# Predict on the test set\n",
    "y_pred = model.predict(X_test)\n",
    "\n",
    "# Calculate metrics\n",
    "mse = mean_squared_error(y_test, y_pred)\n",
    "rmse = np.sqrt(mse)\n",
    "mae = mean_absolute_error(y_test, y_pred)\n",
    "\n",
    "# Calculate Relative Squared Error (RSE)\n",
    "rse = np.sum((y_test - y_pred) ** 2) / np.sum((y_test - np.mean(y_test)) ** 2)\n",
    "\n",
    "# Calculate R-squared\n",
    "r2 = r2_score(y_test, y_pred)\n",
    "\n",
    "# End timer\n",
    "execution_time = time.time() - start_time\n",
    "\n",
    "# Save metrics to dictionary for later use\n",
    "results[\"mlp_regression\"] = {\n",
    "    \"mean_squared_error\": mse, \n",
    "    \"root_mean_squared_error\": rmse,\n",
    "    \"relative_squared_error\": rse,\n",
    "    \"mean_absolute_error\": mae,\n",
    "    \"r_squared\": r2,\n",
    "    \"execution_time\": execution_time\n",
    "}\n",
    "\n",
    "print(results['mlp_regression'])"
   ]
  },
  {
   "cell_type": "code",
   "execution_count": 149,
   "metadata": {},
   "outputs": [
    {
     "name": "stdout",
     "output_type": "stream",
     "text": [
      "                          mean_squared_error  root_mean_squared_error  \\\n",
      "linear_regression               1.861138e+06              1364.235293   \n",
      "knn_regression                  5.974230e+04               244.422390   \n",
      "ridge_regression                1.861138e+06              1364.235440   \n",
      "decision_tree_regression        3.713348e+03                60.937245   \n",
      "random_forest_regression        2.262196e+03                47.562546   \n",
      "\n",
      "                          relative_root_error  mean_absolute_error  r-squared  \\\n",
      "linear_regression                    0.113747           865.169028   0.886253   \n",
      "knn_regression                            NaN            25.717631        NaN   \n",
      "ridge_regression                          NaN           865.283023        NaN   \n",
      "decision_tree_regression                  NaN             4.065072        NaN   \n",
      "random_forest_regression                  NaN             3.690775        NaN   \n",
      "\n",
      "                          execution_time  relative_squared_error  r_squared  \n",
      "linear_regression               0.009410                     NaN        NaN  \n",
      "knn_regression                  0.041956                0.003651   0.996349  \n",
      "ridge_regression                0.004447                0.113747   0.886253  \n",
      "decision_tree_regression        0.005082                0.000227   0.999773  \n",
      "random_forest_regression        0.262740                0.000138   0.999862  \n"
     ]
    }
   ],
   "source": [
    "#print(results)\n",
    "\n",
    "# Convert the results dictionary to a DataFrame\n",
    "results_df = pd.DataFrame.from_dict({k: v for k, v in results.items()}).T\n",
    "\n",
    "# Display the DataFrame\n",
    "print(results_df)"
   ]
  }
 ],
 "metadata": {
  "kernelspec": {
   "display_name": "Python 3",
   "language": "python",
   "name": "python3"
  },
  "language_info": {
   "codemirror_mode": {
    "name": "ipython",
    "version": 3
   },
   "file_extension": ".py",
   "mimetype": "text/x-python",
   "name": "python",
   "nbconvert_exporter": "python",
   "pygments_lexer": "ipython3",
   "version": "3.12.5"
  }
 },
 "nbformat": 4,
 "nbformat_minor": 2
}
